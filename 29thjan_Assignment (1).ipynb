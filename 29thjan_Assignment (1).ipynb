{
 "cells": [
  {
   "cell_type": "code",
   "execution_count": 2,
   "id": "6d7783ef-7879-459c-a40a-101fa29f88c1",
   "metadata": {},
   "outputs": [],
   "source": [
    "# Answer 1 -Python language is designed and developed by a Dutch programmer Guido van Rossum in the Netherland (released 1991),"
   ]
  },
  {
   "cell_type": "code",
   "execution_count": 3,
   "id": "4a1c33c1-0226-4517-bef3-346c672bd098",
   "metadata": {},
   "outputs": [],
   "source": [
    "# Answer 2 - Python is an interpreted programming language, which supports object-oriented, structured, and functional programmin"
   ]
  },
  {
   "cell_type": "code",
   "execution_count": 4,
   "id": "73386755-a45e-470c-8085-733ca4ece249",
   "metadata": {},
   "outputs": [],
   "source": [
    "# Answer 3 -  Case is always significant while dealing with identifiers in python."
   ]
  },
  {
   "cell_type": "code",
   "execution_count": 5,
   "id": "061bd3da-0c8a-495d-8788-981f76fdd5e4",
   "metadata": {},
   "outputs": [],
   "source": [
    "# Amswer 4  -  ‘.py’ is the correct extension of the Python file. Python programs can be written in any text editor. To save these programs we need to save in files with file extension ‘.py’."
   ]
  },
  {
   "cell_type": "code",
   "execution_count": 6,
   "id": "aadc83b5-71b9-495c-a64a-a29ccf648314",
   "metadata": {},
   "outputs": [],
   "source": [
    "# Answer 5 - Python code is both compiled and interpreted"
   ]
  },
  {
   "cell_type": "code",
   "execution_count": 7,
   "id": "9d30395e-67cc-4698-9dd7-0cf6e2e898a5",
   "metadata": {},
   "outputs": [],
   "source": [
    "# Answer 6 - In Python, to define a block of code we use indentation. Indentation refers to whitespaces at the beginning of the line."
   ]
  },
  {
   "cell_type": "code",
   "execution_count": 8,
   "id": "58dc31a2-cf08-4c0e-aa93-da3f7cb9ea88",
   "metadata": {},
   "outputs": [],
   "source": [
    "# Answer 7 - To write single-line comments in Python use the Hash character (#) at the beginning of the line."
   ]
  },
  {
   "cell_type": "code",
   "execution_count": 9,
   "id": "0adc907c-03f0-4cb3-b50f-3d0cc86eb9c5",
   "metadata": {},
   "outputs": [],
   "source": [
    "# Answer 8 - The function sys. version can help us to find the version of python that we are currently working on. It also contains information on the build number and compiler used."
   ]
  },
  {
   "cell_type": "code",
   "execution_count": 10,
   "id": "9a92270f-5c25-440c-92aa-4292f6c6a948",
   "metadata": {},
   "outputs": [],
   "source": [
    "# Answer 9 - Python supports the creation of anonymous functions (i.e. functions that are not bound to a name) at runtime, using a construct called lambda."
   ]
  },
  {
   "cell_type": "code",
   "execution_count": 11,
   "id": "c1a9bc74-d66e-460a-93d4-6d5e3d7d8521",
   "metadata": {},
   "outputs": [],
   "source": [
    "# Answer 10 - pip is a package manager for python. Which is also called Preferred Installer Program."
   ]
  },
  {
   "cell_type": "code",
   "execution_count": 12,
   "id": "0988cbeb-68ef-4761-9d3a-85ad8c1a28d3",
   "metadata": {},
   "outputs": [],
   "source": [
    "# Answer 11 - float()Returns a floating point number, print()Prints to the standard output device, set()Returns a new set object."
   ]
  },
  {
   "cell_type": "code",
   "execution_count": 13,
   "id": "9d4757aa-e58b-40f4-8aa5-2eb098186124",
   "metadata": {},
   "outputs": [],
   "source": [
    "# Answer 12 - An identifier can have a maximum length of 79 characters in Python."
   ]
  },
  {
   "cell_type": "code",
   "execution_count": 14,
   "id": "22f1a1f6-ad76-476c-9f2e-5b8cc14cc2c3",
   "metadata": {},
   "outputs": [],
   "source": [
    "# Answer 13 - Advantages of Python: simple, clean,  fast to write and  easy syntax."
   ]
  },
  {
   "cell_type": "code",
   "execution_count": 15,
   "id": "cc35c3d7-a596-4639-86ce-3f1b6e2491ab",
   "metadata": {},
   "outputs": [],
   "source": [
    "# Answer 14 - Python uses a portion of the memory for internal use and non-object memory. Another part of the memory is used for Python object such as int, dict, list, etc. CPython contains the object allocator that allocates memory within the object area. The object allocator gets a call every time the new object needs space"
   ]
  },
  {
   "cell_type": "code",
   "execution_count": 16,
   "id": "abc5121b-1953-4bed-9cc9-e8e006f705c3",
   "metadata": {},
   "outputs": [],
   "source": [
    "# Answer 15 - Right-clicking This PC and going to Properties.\n",
    "\n",
    "# Clicking on the Advanced system settings in the menu on the left.\n",
    "\n",
    "#Clicking on the Environment Variables button o​n the bottom right.\n",
    "\n",
    "#In the System variables section, selecting the Path variable and clicking on Edit. The next screen will show all the directories that are currently a part of the PATH variable.\n",
    "\n",
    "#Clicking on New and entering Python’s install directory. "
   ]
  },
  {
   "cell_type": "code",
   "execution_count": null,
   "id": "4fa687be-d5c8-47b9-8f6b-0231fee056fd",
   "metadata": {},
   "outputs": [],
   "source": [
    "# Answer 16 - Indentation refers to the spaces at the beginning of a code line. Python uses indentation to indicate a block of code."
   ]
  }
 ],
 "metadata": {
  "kernelspec": {
   "display_name": "Python 3 (ipykernel)",
   "language": "python",
   "name": "python3"
  },
  "language_info": {
   "codemirror_mode": {
    "name": "ipython",
    "version": 3
   },
   "file_extension": ".py",
   "mimetype": "text/x-python",
   "name": "python",
   "nbconvert_exporter": "python",
   "pygments_lexer": "ipython3",
   "version": "3.10.8"
  }
 },
 "nbformat": 4,
 "nbformat_minor": 5
}
